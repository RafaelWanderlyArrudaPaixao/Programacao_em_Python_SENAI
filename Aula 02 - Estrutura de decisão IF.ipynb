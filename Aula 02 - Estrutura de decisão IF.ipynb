{
 "cells": [
  {
   "cell_type": "markdown",
   "id": "21abd3b1",
   "metadata": {},
   "source": [
    "Exercício 01 – Crie uma variável chamada \"idade\" e atribua um valor inteiro a ela. Verifique se a idade é maior ou igual a 18 e imprima \"Maior de idade\" ou \"Menor de idade\" de acordo com a condição."
   ]
  },
  {
   "cell_type": "code",
   "execution_count": 3,
   "id": "8f7c2bc3",
   "metadata": {},
   "outputs": [
    {
     "name": "stdout",
     "output_type": "stream",
     "text": [
      "Digite uma idade: 5\n",
      "É menor de idade\n"
     ]
    }
   ],
   "source": [
    "idade = int(input('Digite uma idade: '))\n",
    "\n",
    "if idade > 18:\n",
    "    print('É maior de idade')\n",
    "else:\n",
    "    print('É menor de idade')"
   ]
  },
  {
   "cell_type": "markdown",
   "id": "d98670a1",
   "metadata": {},
   "source": [
    "Exercício 02 - Crie uma variável chamada \"número\" e atribua um valor inteiro a ela. Verifique se o número é positivo, negativo ou zero e imprima a mensagem correspondente."
   ]
  },
  {
   "cell_type": "code",
   "execution_count": 18,
   "id": "d0b9bb9e",
   "metadata": {},
   "outputs": [
    {
     "name": "stdout",
     "output_type": "stream",
     "text": [
      "Digite um número para avaliar se ele é positivo ou negativo: 0\n",
      "Zero\n"
     ]
    }
   ],
   "source": [
    "numero = int(input('Digite um número para avaliar se ele é positivo ou negativo: '))\n",
    "\n",
    "if numero > 0:\n",
    "    print('o número digitado é positivo')\n",
    "elif numero < 0:\n",
    "    print('Esse número é negativo')\n",
    "else:\n",
    "    print('Zero')"
   ]
  },
  {
   "cell_type": "markdown",
   "id": "2cbe0206",
   "metadata": {},
   "source": [
    "Exercício 03 - Crie duas variáveis, \"nota1\" e \"nota2\", e atribua valores numéricos a elas. Verifique se a média das notas é maior ou igual a 7 e imprima \"Aprovado\" ou \"Reprovado\" de acordo com a condição."
   ]
  },
  {
   "cell_type": "code",
   "execution_count": 20,
   "id": "ef2c2e79",
   "metadata": {},
   "outputs": [
    {
     "name": "stdout",
     "output_type": "stream",
     "text": [
      "Insira sua primeira nota: 6\n",
      "Insira sua segunda nota: 9\n",
      "Sua média foi 7.5, você foi aprovado\n"
     ]
    }
   ],
   "source": [
    "nota1 = float(input('Insira sua primeira nota: '))\n",
    "nota2 = float(input('Insira sua segunda nota: '))\n",
    "media = (nota1 + nota2) / 2\n",
    "\n",
    "if media >= 7:\n",
    "    print(f'Sua média foi {media}, você foi aprovado')\n",
    "else:\n",
    "    print(f'Sua média foi {media}, você foi reprovado')"
   ]
  },
  {
   "cell_type": "markdown",
   "id": "3c026630",
   "metadata": {},
   "source": [
    "Exercício 04 - Crie uma variável chamada \"idade\" e atribua um valor inteiro a ela. Verifique se a idade está dentro do intervalo de 18 a 30 (inclusive) e imprima a mensagem \"Idade válida\" ou \"Idade inválida\" de acordo com a condição."
   ]
  },
  {
   "cell_type": "code",
   "execution_count": 42,
   "id": "3940a3c0",
   "metadata": {},
   "outputs": [
    {
     "name": "stdout",
     "output_type": "stream",
     "text": [
      "Insira um número inteiro: 68\n",
      "Idade inválida\n"
     ]
    }
   ],
   "source": [
    "idade = int(input('Insira um número inteiro: '))\n",
    "\n",
    "if idade >= 18 and idade <=30:\n",
    "    print('Idade válida')\n",
    "else:\n",
    "    print('Idade inválida')\n"
   ]
  },
  {
   "cell_type": "markdown",
   "id": "d8295cad",
   "metadata": {},
   "source": [
    "Exercício 05 - Crie uma variável chamada \"numero\" e atribua um valor inteiro a ela. Verifique se o número é par ou ímpar e imprima a mensagem correspondente."
   ]
  },
  {
   "cell_type": "code",
   "execution_count": 45,
   "id": "f5fc8b1b",
   "metadata": {},
   "outputs": [
    {
     "name": "stdout",
     "output_type": "stream",
     "text": [
      "Digite um número: 6\n",
      "Par\n"
     ]
    }
   ],
   "source": [
    "numero = int(input('Digite um número: '))\n",
    "\n",
    "if numero%2 == 0:\n",
    "    print('Par')\n",
    "else:\n",
    "    print('Impar')"
   ]
  },
  {
   "cell_type": "markdown",
   "id": "0cfbef0c",
   "metadata": {},
   "source": [
    "Exercício 06 - Crie uma variável chamada \"horario\" e atribua um valor inteiro representando a hora do dia (em formato 24 horas). Verifique se o horário está dentro do período da manhã (das 6h às 12h), da tarde (das 12h às 18h) ou da noite (das 18h às 23h) e imprima a mensagem correspondente."
   ]
  },
  {
   "cell_type": "code",
   "execution_count": 100,
   "id": "1e7ffcd4",
   "metadata": {},
   "outputs": [
    {
     "name": "stdout",
     "output_type": "stream",
     "text": [
      "Que horas são: 8\n",
      "Bom dia\n"
     ]
    }
   ],
   "source": [
    "horario = int(input('Que horas são: '))\n",
    "\n",
    "if horario >= 6 and horario < 12:\n",
    "    print('Bom dia')\n",
    "elif horario >= 12 and horario < 18:\n",
    "    print('Boa tarde')\n",
    "elif horario >= 18 and horario <= 23:\n",
    "    print('Boa noite')\n",
    "elif horario >= 0 and horario < 6:\n",
    "    print('Madrugada')\n",
    "else:\n",
    "    print('Horário inválido')"
   ]
  },
  {
   "cell_type": "markdown",
   "id": "4c2876ac",
   "metadata": {},
   "source": [
    "Exercício 07 - Crie uma variável chamada \"peso\" e atribua um valor numérico a ela. Verifique se o peso está dentro do intervalo de 50 a 100 (inclusive) e imprima a mensagem \"Peso válido\" ou \"Peso inválido\" de acordo com a condição."
   ]
  },
  {
   "cell_type": "code",
   "execution_count": 108,
   "id": "6da3e00a",
   "metadata": {},
   "outputs": [
    {
     "name": "stdout",
     "output_type": "stream",
     "text": [
      "Digite o peso encontrado: 11\n",
      "Peso inválido\n"
     ]
    }
   ],
   "source": [
    "peso = float(input('Digite o peso encontrado: '))\n",
    "\n",
    "if peso >= 50 and peso <= 100:\n",
    "    print('Peso válido')\n",
    "else:\n",
    "    print('Peso inválido')"
   ]
  },
  {
   "cell_type": "markdown",
   "id": "57d6b823",
   "metadata": {},
   "source": [
    "Exercício 08 - Crie uma variável chamada \"numero\" e atribua um valor inteiro a ela. Verifique se o número é múltiplo de 3 e de 5 ao mesmo tempo e imprima a mensagem correspondente."
   ]
  },
  {
   "cell_type": "code",
   "execution_count": 114,
   "id": "62b7929d",
   "metadata": {},
   "outputs": [
    {
     "name": "stdout",
     "output_type": "stream",
     "text": [
      "Digite um valor: 12\n",
      "Esse número não é divisivel por 3 e 5\n"
     ]
    }
   ],
   "source": [
    "numero = int(input('Digite um valor: '))\n",
    "\n",
    "if numero%3 == 0 and numero%5 == 0:\n",
    "    print('Esse número é divisivel por 3 e 5')\n",
    "else:\n",
    "    print('Esse número não é divisivel por 3 e 5')"
   ]
  },
  {
   "cell_type": "markdown",
   "id": "ca7f52a2",
   "metadata": {},
   "source": [
    "Exercício 09 - Crie uma variável chamada \"ano\" e atribua um valor inteiro representando um ano. Verifique se o ano é bissexto (divisível por 4, mas não por 100, exceto se for divisível por 400) e imprima a mensagem correspondente."
   ]
  },
  {
   "cell_type": "code",
   "execution_count": 139,
   "id": "2dc44353",
   "metadata": {},
   "outputs": [
    {
     "name": "stdout",
     "output_type": "stream",
     "text": [
      "Quantos dias tem esse ano? 2025\n",
      "O ano 2025 não é bisexto\n"
     ]
    }
   ],
   "source": [
    "ano = int(input('Quantos dias tem esse ano? '))\n",
    "\n",
    "if(ano%4 == 0 and ano%100 != 0) or (ano%400 == 0):\n",
    "    print(f'O ano {ano} é bisexto')\n",
    "else:\n",
    "    print(f'O ano {ano} não é bisexto')"
   ]
  },
  {
   "cell_type": "markdown",
   "id": "d38c03b2",
   "metadata": {},
   "source": [
    "Exercício 10 - Crie uma variável chamada \"salario\" e atribua um valor numérico a ela. Verifique se o salário é maior do que 1000 e menor do que 2000 ao mesmo tempo e imprima a mensagem correspondente."
   ]
  },
  {
   "cell_type": "code",
   "execution_count": 121,
   "id": "938b9ddc",
   "metadata": {},
   "outputs": [
    {
     "name": "stdout",
     "output_type": "stream",
     "text": [
      "Digite o valor: 1522\n",
      "Seu salário está na média\n"
     ]
    }
   ],
   "source": [
    "salario = float(input('Digite o valor: '))\n",
    "\n",
    "if salario > 1000 and salario < 2000:\n",
    "    print('Seu salário está na média')\n",
    "elif salario <= 1000:\n",
    "    print('Seu salário está abaixo da média')\n",
    "else:\n",
    "    print('Seu salário está acima da média')"
   ]
  },
  {
   "cell_type": "markdown",
   "id": "a57e9419",
   "metadata": {},
   "source": [
    "Exercício 11 - Faça um Programa que peça dois números e imprima o maior deles."
   ]
  },
  {
   "cell_type": "code",
   "execution_count": 137,
   "id": "27600ade",
   "metadata": {},
   "outputs": [
    {
     "name": "stdout",
     "output_type": "stream",
     "text": [
      "Digite um número: 8\n",
      "Digite outro número: 2\n",
      "O primeiro número digitado 8.0 é maior\n"
     ]
    }
   ],
   "source": [
    "num1 = float(input('Digite um número: '))\n",
    "num2 = float(input('Digite outro número: '))\n",
    "\n",
    "if num1 > num2:\n",
    "    print(f'O primeiro número digitado {num1} é maior')\n",
    "elif num1 < num2:\n",
    "    print(f'O segundo número digitado {num2} é maior')\n",
    "else:\n",
    "    print(f'O números {num1} e {num2} são iguais')"
   ]
  },
  {
   "cell_type": "markdown",
   "id": "4a19a80a",
   "metadata": {},
   "source": [
    "Exercício 12 - Faça um Programa que peça um valor e mostre na tela se o valor é positivo ou negativo."
   ]
  },
  {
   "cell_type": "code",
   "execution_count": 140,
   "id": "7a23f6d7",
   "metadata": {},
   "outputs": [
    {
     "name": "stdout",
     "output_type": "stream",
     "text": [
      "Digite um número: 6\n",
      "Esse número é positivo\n"
     ]
    }
   ],
   "source": [
    "num1 = float(input('Digite um número: '))\n",
    "\n",
    "if num1 > 0:\n",
    "    print('Esse número é positivo')\n",
    "elif num1 < 0:\n",
    "    print('Esse número é negativo')\n",
    "else:\n",
    "    print('Zero')\n",
    "    "
   ]
  },
  {
   "cell_type": "markdown",
   "id": "7a5bfd76",
   "metadata": {},
   "source": [
    "Exercício 13 - Faça um Programa que verifique se uma letra digitada é \"F\" ou \"M\". Conforme a letra escrever: F - Feminino, M - Masculino, Sexo Inválido."
   ]
  },
  {
   "cell_type": "code",
   "execution_count": 154,
   "id": "1b1a2353",
   "metadata": {},
   "outputs": [
    {
     "name": "stdout",
     "output_type": "stream",
     "text": [
      "Digite seu sexo: f/m 5\n",
      "Sexo inválido\n"
     ]
    }
   ],
   "source": [
    "sexo = input('Digite seu sexo: f/m ')\n",
    "\n",
    "if sexo == 'm':\n",
    "    print('Sexo Masculino')\n",
    "elif sexo == 'f':\n",
    "    print('Sexo Feminino')\n",
    "else:\n",
    "    print('Sexo inválido')"
   ]
  },
  {
   "cell_type": "markdown",
   "id": "001d7d3f",
   "metadata": {},
   "source": [
    "Exercício 14 - Faça um Programa que verifique se uma letra digitada é vogal ou consoante."
   ]
  },
  {
   "cell_type": "code",
   "execution_count": 152,
   "id": "e98e394a",
   "metadata": {},
   "outputs": [
    {
     "name": "stdout",
     "output_type": "stream",
     "text": [
      "Digite uma letrag\n",
      "A letra digitada g é uma consoante\n"
     ]
    }
   ],
   "source": [
    "letra = input('Digite uma letra')\n",
    "\n",
    "if (letra == 'a') or (letra == 'e') or (letra == 'i') or (letra == 'o') or (letra == 'u'):\n",
    "    print(f'A letra digitada {letra} é uma vogal')\n",
    "else:\n",
    "    print(f'A letra digitada {letra} é uma consoante')"
   ]
  },
  {
   "cell_type": "markdown",
   "id": "da0e8eb9",
   "metadata": {},
   "source": [
    "Exercício 15 - Faça um programa para a leitura de duas notas parciais de um aluno. O programa deve calcular a média alcançada por aluno e apresentar:\n",
    "\n",
    "A mensagem \"Aprovado\", se a média alcançada for maior ou igual a sete;\n",
    "A mensagem \"Reprovado\", se a média for menor do que sete;\n",
    "A mensagem \"Aprovado com Distinção\", se a média for igual a dez."
   ]
  },
  {
   "cell_type": "code",
   "execution_count": 159,
   "id": "738d3ea8",
   "metadata": {},
   "outputs": [
    {
     "name": "stdout",
     "output_type": "stream",
     "text": [
      "Digite a primeira nota: 8\n",
      "Digite a segunda nota: 6\n",
      "Parabéns, sua média foi 7.0 e você foi Aprovado\n"
     ]
    }
   ],
   "source": [
    "nota1 = float(input('Digite a primeira nota: '))\n",
    "nota2 = float(input('Digite a segunda nota: '))\n",
    "media = (nota1 + nota2) / 2\n",
    "\n",
    "if media == 10:\n",
    "    print(f'Parabéns, você conseguiu a média máxima {media}, você foi Aprovado com Distinção')\n",
    "elif media >= 7:\n",
    "    print(f'Parabéns, sua média foi {media} e você foi Aprovado')\n",
    "else:\n",
    "    print(f'Desculpe, você foi reprovado, sua média foi {media}')"
   ]
  },
  {
   "cell_type": "markdown",
   "id": "0481bea0",
   "metadata": {},
   "source": [
    "Exercício 16 - Faça um Programa que leia três números e mostre o maior deles."
   ]
  },
  {
   "cell_type": "code",
   "execution_count": 167,
   "id": "6467a598",
   "metadata": {},
   "outputs": [
    {
     "name": "stdout",
     "output_type": "stream",
     "text": [
      "Digite o primeiro número: 8\n",
      "Digite o segundo número: 5\n",
      "Digite o terceiro número: 6\n",
      "O primeiro número digitado 8.0 é o maior entre os 3\n"
     ]
    }
   ],
   "source": [
    "num1 = float(input('Digite o primeiro número: '))\n",
    "num2 = float(input('Digite o segundo número: '))\n",
    "num3 = float(input('Digite o terceiro número: '))\n",
    "\n",
    "if num1 > num2 and num1 > num3:\n",
    "    print(f'O primeiro número digitado {num1} é o maior entre os 3')\n",
    "elif num2 > num1 and num2 > num3:\n",
    "    print(f'O segundo número digitado {num2} é o maior número entre os 3')\n",
    "else:\n",
    "    print(f'O terceiro número digitado {num3} é o maior número digitado entre os 3')"
   ]
  },
  {
   "cell_type": "markdown",
   "id": "a3a4006e",
   "metadata": {},
   "source": [
    "Exercício 17 - Faça um Programa que leia três números e mostre o maior e o menor deles."
   ]
  },
  {
   "cell_type": "code",
   "execution_count": 170,
   "id": "532e859c",
   "metadata": {},
   "outputs": [
    {
     "name": "stdout",
     "output_type": "stream",
     "text": [
      "Digite o primeiro número: 8\n",
      "Digite o segundo número: 7\n",
      "Digite o terceiro número: 6\n",
      "O primeiro número digitado 8.0 é o maior entre os 3\n",
      "O terceiro número digitado 6.0 é o menor entre os 3\n"
     ]
    }
   ],
   "source": [
    "num1 = float(input('Digite o primeiro número: '))\n",
    "num2 = float(input('Digite o segundo número: '))\n",
    "num3 = float(input('Digite o terceiro número: '))\n",
    "\n",
    "if num1 > num2 and num1 > num3:\n",
    "    print(f'O primeiro número digitado {num1} é o maior entre os 3')\n",
    "elif num2 > num1 and num2 > num3:\n",
    "    print(f'O segundo número digitado {num2} é o maior número entre os 3')\n",
    "else:\n",
    "    print(f'O terceiro número digitado {num3} é o maior número digitado entre os 3')\n",
    "    \n",
    "if num1 < num2 and num1 < num3:\n",
    "    print(f'O primeiro número digitado {num1} é o menor entre os 3')\n",
    "elif num2 < num1 and num2 < num3:\n",
    "    print(f'O segundo número digitado {num2} é o menor entre os 3')\n",
    "else:\n",
    "    print(f'O terceiro número digitado {num3} é o menor entre os 3')"
   ]
  },
  {
   "cell_type": "markdown",
   "id": "ab22971e",
   "metadata": {},
   "source": [
    "Exercício 18 - Faça um programa que pergunte o preço de três produtos e informe qual produto você deve comprar, sabendo que a decisão é sempre pelo mais barato."
   ]
  },
  {
   "cell_type": "code",
   "execution_count": 173,
   "id": "6b9b4d4d",
   "metadata": {},
   "outputs": [
    {
     "name": "stdout",
     "output_type": "stream",
     "text": [
      "Digite o preço do primeiro produto: 90\n",
      "Digite o preço do segundo produto: 88\n",
      "Digite o preço do terceiro produto 54\n",
      "Vamos comprar o produto 3 que está mais barato, custando apenas R$54.00\n"
     ]
    }
   ],
   "source": [
    "preco_produto1 = float(input('Digite o preço do primeiro produto: '))\n",
    "preco_produto2 = float(input('Digite o preço do segundo produto: '))\n",
    "preco_produto3 = float(input('Digite o preço do terceiro produto '))\n",
    "\n",
    "if preco_produto1 < preco_produto2 and preco_produto1 < preco_produto3:\n",
    "    print(f'Vamos comprar o produto 1 que está mais barato, custando apenas R${preco_produto1:.2f}')\n",
    "elif preco_produto2 < preco_produto1 and preco_produto2 < preco_produto3:\n",
    "    print(f'Vamos comprar o produto 2 que está mais barato, custando apenas R${preco_produto2:.2f}')\n",
    "else:\n",
    "    print(f'Vamos comprar o produto 3 que está mais barato, custando apenas R${preco_produto3:.2f}')"
   ]
  },
  {
   "cell_type": "markdown",
   "id": "4dd52252",
   "metadata": {},
   "source": [
    "Exercício 19 - Faça um Programa que leia três números e mostre-os em ordem decrescente."
   ]
  },
  {
   "cell_type": "code",
   "execution_count": null,
   "id": "0f33584c",
   "metadata": {},
   "outputs": [],
   "source": [
    "num1 = float(input('Digite o primeiro número: '))\n",
    "num2 = float(input('Digite o segundo número: '))\n",
    "num3 = float(input('Digite o terceiro número: '))\n",
    "\n"
   ]
  }
 ],
 "metadata": {
  "kernelspec": {
   "display_name": "Python 3 (ipykernel)",
   "language": "python",
   "name": "python3"
  },
  "language_info": {
   "codemirror_mode": {
    "name": "ipython",
    "version": 3
   },
   "file_extension": ".py",
   "mimetype": "text/x-python",
   "name": "python",
   "nbconvert_exporter": "python",
   "pygments_lexer": "ipython3",
   "version": "3.11.3"
  }
 },
 "nbformat": 4,
 "nbformat_minor": 5
}
