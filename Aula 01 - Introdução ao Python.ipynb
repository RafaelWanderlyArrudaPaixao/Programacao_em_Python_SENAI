{
 "cells": [
  {
   "cell_type": "markdown",
   "id": "5b9eeab7",
   "metadata": {},
   "source": [
    "Exercício 01 - Crie um programa para receber dois valores e em seguida, exiba o valor da soma "
   ]
  },
  {
   "cell_type": "code",
   "execution_count": 17,
   "id": "f8eb84a1",
   "metadata": {
    "collapsed": true
   },
   "outputs": [
    {
     "name": "stdout",
     "output_type": "stream",
     "text": [
      "40\n"
     ]
    }
   ],
   "source": [
    "valor1 = 10\n",
    "valor2 = 30\n",
    "soma = valor1 + valor2\n",
    "\n",
    "print(soma)"
   ]
  },
  {
   "cell_type": "markdown",
   "id": "23cc4963",
   "metadata": {},
   "source": [
    "Exercício 02 – Crie um programa para receber dois valores e em seguida, exiba o valor\n",
    "da diferença entre eles."
   ]
  },
  {
   "cell_type": "code",
   "execution_count": 60,
   "id": "e4e1e2a9",
   "metadata": {},
   "outputs": [
    {
     "name": "stdout",
     "output_type": "stream",
     "text": [
      "5\n"
     ]
    }
   ],
   "source": [
    "valor1 = 10\n",
    "valor2 = 5\n",
    "diferenca = valor1 - valor2\n",
    "\n",
    "print(diferenca)"
   ]
  },
  {
   "cell_type": "markdown",
   "id": "9e8befe8",
   "metadata": {},
   "source": [
    "Exercício 03 – Crie um programa para receber dois valores e em seguida, exiba o\n",
    "produto entre eles."
   ]
  },
  {
   "cell_type": "code",
   "execution_count": 14,
   "id": "9ddba650",
   "metadata": {},
   "outputs": [
    {
     "name": "stdout",
     "output_type": "stream",
     "text": [
      "O resultado da multiplicação: 50\n",
      "O resultado da multiplicação: 50\n",
      "O resultado da multiplicação: 50\n"
     ]
    }
   ],
   "source": [
    "valor1 = 10\n",
    "valor2 = 5\n",
    "produto = valor1 * valor2\n",
    "\n",
    "print('O resultado da multiplicação:',produto)\n",
    "print('O resultado da multiplicação: {}'.format(produto))\n",
    "print(f'O resultado da multiplicação: {produto}')"
   ]
  },
  {
   "cell_type": "markdown",
   "id": "be894955",
   "metadata": {},
   "source": [
    "Exercício 04 - Crie um programa para receber dois valores e em seguida, exiba o\n",
    "quociente entre eles."
   ]
  },
  {
   "cell_type": "code",
   "execution_count": 30,
   "id": "90ccbfbf",
   "metadata": {},
   "outputs": [
    {
     "name": "stdout",
     "output_type": "stream",
     "text": [
      "O Resultado da divisão é: 2\n",
      "O Resto da divisão é: 0\n"
     ]
    }
   ],
   "source": [
    "num1 = 10\n",
    "num2 = 5\n",
    "# Cálculo de divisão\n",
    "quociente = num1 / num2\n",
    "\n",
    "# Cálculo de resto da divisão\n",
    "resto = num1 % num2\n",
    "\n",
    "print('O Resultado da divisão é:',quociente)\n",
    "print('O Resto da divisão é:',resto)"
   ]
  },
  {
   "cell_type": "markdown",
   "id": "e199a34b",
   "metadata": {},
   "source": [
    "Exercício 05 - Crie um programa para receber dois valores e em seguida, exiba o resto da divisão entre eles."
   ]
  },
  {
   "cell_type": "code",
   "execution_count": 7,
   "id": "db732423",
   "metadata": {},
   "outputs": [
    {
     "name": "stdout",
     "output_type": "stream",
     "text": [
      "2\n"
     ]
    }
   ],
   "source": [
    "valor1 = 50\n",
    "valor2 = 6\n",
    "\n",
    "resto = valor1 % valor2\n",
    "\n",
    "print(resto)\n"
   ]
  },
  {
   "cell_type": "markdown",
   "id": "f4f50010",
   "metadata": {},
   "source": [
    "Exercício 06 - Crie um programa para receber um número e em seguida, exiba o quadrado dele."
   ]
  },
  {
   "cell_type": "code",
   "execution_count": 8,
   "id": "66365025",
   "metadata": {},
   "outputs": [
    {
     "name": "stdout",
     "output_type": "stream",
     "text": [
      "64\n"
     ]
    }
   ],
   "source": [
    "valor = 8\n",
    "quadrado = valor ** 2\n",
    "\n",
    "print(quadrado)\n"
   ]
  },
  {
   "cell_type": "markdown",
   "id": "630195ae",
   "metadata": {},
   "source": [
    "Exercício 07 – Elabora um programa para calcular a raiz quadrada de um número, utilizando a biblioteca math."
   ]
  },
  {
   "cell_type": "code",
   "execution_count": 11,
   "id": "65057961",
   "metadata": {},
   "outputs": [
    {
     "name": "stdout",
     "output_type": "stream",
     "text": [
      "11.0\n"
     ]
    }
   ],
   "source": [
    "import math\n",
    "\n",
    "num = 121\n",
    "raiz_quadrada = math.sqrt(num)\n",
    "\n",
    "print(raiz_quadrada)"
   ]
  },
  {
   "cell_type": "markdown",
   "id": "471bcb5e",
   "metadata": {},
   "source": [
    "Exercício 08 – Crie um programa que seja capaz de calcular o valor absoluto de um número."
   ]
  },
  {
   "cell_type": "code",
   "execution_count": 14,
   "id": "3323a6bd",
   "metadata": {},
   "outputs": [
    {
     "name": "stdout",
     "output_type": "stream",
     "text": [
      "87\n"
     ]
    }
   ],
   "source": [
    "num = -87\n",
    "absoluto = abs(num)\n",
    "\n",
    "print(absoluto)"
   ]
  },
  {
   "cell_type": "markdown",
   "id": "e1aa4d28",
   "metadata": {},
   "source": [
    "Exercício 09 - Atribua os seguintes valores às variáveis, um a um:"
   ]
  },
  {
   "cell_type": "code",
   "execution_count": 17,
   "id": "4b4f4871",
   "metadata": {},
   "outputs": [
    {
     "name": "stdout",
     "output_type": "stream",
     "text": [
      "<class 'int'>\n",
      "<class 'float'>\n",
      "<class 'str'>\n",
      "<class 'complex'>\n"
     ]
    }
   ],
   "source": [
    "a = 347\n",
    "b = 2.71\n",
    "c = '347'\n",
    "d = 2+3j\n",
    "\n",
    "print(type(a))\n",
    "print(type(b))\n",
    "print(type(c))\n",
    "print(type(d))\n",
    "\n"
   ]
  },
  {
   "cell_type": "markdown",
   "id": "c0cb48f9",
   "metadata": {},
   "source": [
    "Exercício 10 - Faça um Programa que converta metros para centímetros."
   ]
  },
  {
   "cell_type": "code",
   "execution_count": 3,
   "id": "3afae765",
   "metadata": {},
   "outputs": [
    {
     "name": "stdout",
     "output_type": "stream",
     "text": [
      "2000\n"
     ]
    }
   ],
   "source": [
    "# Solicitar ao usuário um valor em metros\n",
    "# Todo input é str\n",
    "\n",
    "metros = int(input('Digite um valor em metros para converter em cm: '))\n",
    "centimetros = metros * 100\n",
    "\n",
    "print(centimetros)"
   ]
  },
  {
   "cell_type": "markdown",
   "id": "2c1362e1",
   "metadata": {},
   "source": [
    "Exercício 11 - Faça um Programa que peça o raio de um círculo, calcule e mostre sua\n",
    "área."
   ]
  },
  {
   "cell_type": "code",
   "execution_count": 4,
   "id": "c26e6926",
   "metadata": {},
   "outputs": [
    {
     "name": "stdout",
     "output_type": "stream",
     "text": [
      "A área total é: 4071.50\n"
     ]
    }
   ],
   "source": [
    "import math\n",
    "\n",
    "raio = float(input('Insira um número para calcular a área do círculo: '))\n",
    "pi = math.pi\n",
    "# podemos usar o round para definir quantas casas após a virgula sera exibida. ex: (area = pi * raio **2, 2)\n",
    "area = pi * raio **2\n",
    "\n",
    "print(f'A área total é: {area:.2f}')\n"
   ]
  },
  {
   "cell_type": "markdown",
   "id": "08973277",
   "metadata": {},
   "source": [
    "Exercício 12 - Faça um Programa que calcule a área de um quadrado, em seguida\n",
    "mostre o dobro desta área para o usuário."
   ]
  },
  {
   "cell_type": "code",
   "execution_count": 5,
   "id": "0e95ba9a",
   "metadata": {},
   "outputs": [
    {
     "name": "stdout",
     "output_type": "stream",
     "text": [
      "O lado do quadrado é: 45.0\n",
      "A área total é: 2025.0 mm²\n",
      "O dobro da área é 4050.0 mm²\n"
     ]
    }
   ],
   "source": [
    "lado = float(input('Digite um numero'))\n",
    "area = lado ** 2\n",
    "area_dobro = area * 2\n",
    "\n",
    "print('O lado do quadrado é:',lado)\n",
    "print('A área total é:',area,'mm²')\n",
    "print('O dobro da área é',area_dobro,'mm²')\n"
   ]
  },
  {
   "cell_type": "markdown",
   "id": "ff6d578d",
   "metadata": {},
   "source": [
    "Exercício 13 - Faça um Programa que pergunte quanto você ganha por hora e o número\n",
    "de horas trabalhadas no mês. Calcule e mostre o total do seu salário no referido mês."
   ]
  },
  {
   "cell_type": "code",
   "execution_count": 61,
   "id": "2f0f23e6",
   "metadata": {},
   "outputs": [
    {
     "name": "stdout",
     "output_type": "stream",
     "text": [
      "Digite o valor da sua hora: 15\n",
      "Quantas horas você trabalha por mês? 220\n",
      "Seu salário mensal é de R$3300.0\n"
     ]
    }
   ],
   "source": [
    "valor_hora = float(input('Digite o valor da sua hora: '))\n",
    "horas_trabalhadas = float(input('Quantas horas você trabalha por mês? '))\n",
    "salario = valor_hora * horas_trabalhadas\n",
    "\n",
    "print(f'Seu salário mensal é de R${salario}')"
   ]
  },
  {
   "cell_type": "markdown",
   "id": "f98ac884",
   "metadata": {},
   "source": [
    "Exercício 14 - Faça um Programa que peça a temperatura em graus Fahrenheit,\n",
    "transforme e mostre a temperatura em graus Celsius."
   ]
  },
  {
   "cell_type": "code",
   "execution_count": 2,
   "id": "feaee4ba",
   "metadata": {},
   "outputs": [
    {
     "name": "stdout",
     "output_type": "stream",
     "text": [
      "A temperatura em graus celsius é de: -6.7°C\n"
     ]
    }
   ],
   "source": [
    "fahrenheit = float(input('Digite a temperatura em fahrenheit: '))\n",
    "celsius = (fahrenheit - 32) / 1.8\n",
    "\n",
    "print(f'A temperatura em graus celsius é de: {celsius:.1f}°C')"
   ]
  },
  {
   "cell_type": "markdown",
   "id": "10ee0cbe",
   "metadata": {},
   "source": [
    "Exercício 15 - Faça um Programa que peça a temperatura em graus Celsius, transforme\n",
    "e mostre em graus Fahrenheit."
   ]
  },
  {
   "cell_type": "code",
   "execution_count": 6,
   "id": "815a6d28",
   "metadata": {},
   "outputs": [
    {
     "name": "stdout",
     "output_type": "stream",
     "text": [
      "A temperatura em graus fahrenheit é de: 136.4°F\n"
     ]
    }
   ],
   "source": [
    "celsius = float(input('Digite a temperatura em celsius: '))\n",
    "fahrenheit = (celsius * 1.8) + 32\n",
    "\n",
    "print(f'A temperatura em graus fahrenheit é de: {fahrenheit:.1f}°F')"
   ]
  },
  {
   "cell_type": "markdown",
   "id": "d279565e",
   "metadata": {},
   "source": [
    "Exercício 16 - Faça um Programa que peça 2 números inteiros e um número real. Calcule e mostre:\n",
    "a) o produto do dobro do primeiro com metade do segundo.\n",
    "b) a soma do triplo do primeiro com o terceiro.\n",
    "c) o terceiro elevado ao cubo."
   ]
  },
  {
   "cell_type": "code",
   "execution_count": 21,
   "id": "a9564c98",
   "metadata": {},
   "outputs": [
    {
     "name": "stdout",
     "output_type": "stream",
     "text": [
      "5.0\n",
      "8.0\n",
      "8.0\n"
     ]
    }
   ],
   "source": [
    "inteiro1 = int(input('Digite um número inteiro: '))\n",
    "inteiro2 = int(input('Digite outro número inteiro: '))\n",
    "real = float(input('Digite um número real: '))\n",
    "\n",
    "a = inteiro1 * 2 + (inteiro2/2)\n",
    "b = inteiro1 * 3 + real\n",
    "c = real ** 3\n",
    "\n",
    "print(a)\n",
    "print(b)\n",
    "print(c)"
   ]
  },
  {
   "cell_type": "markdown",
   "id": "628a8ecb",
   "metadata": {},
   "source": [
    "Exercício 17 - João Papo-de-Pescador, homem de bem, comprou um microcomputador para controlar o rendimento diário de seu trabalho. Toda vez que ele traz um peso de peixes maior que o estabelecido pelo regulamento de pesca do estado de São Paulo (50 quilos) deve pagar uma multa de R$ 4,00 por quilo excedente. João precisa que você faça um programa que leia a variável peso (peso de peixes) e calcule o excesso. Gravar na variável excesso a quantidade de quilos além do limite e na variável multa o valor da multa que João deverá pagar. Imprima os dados do programa com as mensagens adequadas."
   ]
  },
  {
   "cell_type": "code",
   "execution_count": 26,
   "id": "0a0cb0da",
   "metadata": {},
   "outputs": [
    {
     "name": "stdout",
     "output_type": "stream",
     "text": [
      "Você ultrapassou 37.80Kg de peixe, sua multa será de R$151.20\n"
     ]
    }
   ],
   "source": [
    "peso_regulamento = 50\n",
    "peso_peixe = float(input('Quantos kilos de peixe você trouxe hoje? '))\n",
    "multa_unit = 4\n",
    "excesso = peso_peixe - peso_regulamento\n",
    "multa_excesso = excesso * multa_unit\n",
    "\n",
    "if peso_peixe > peso_regulamento:\n",
    "    print(f'Você ultrapassou {excesso:.2f}Kg de peixe, sua multa será de R${multa_excesso:.2f}')\n",
    "else:\n",
    "    print('Hoje você não ultrapassou os Kg da regulamentação; Parabéns')"
   ]
  },
  {
   "cell_type": "markdown",
   "id": "6eb77246",
   "metadata": {},
   "source": [
    "Exercício 18 - Faça um Programa que pergunte quanto você ganha por hora e o número de horas trabalhadas no mês. Calcule e mostre o total do seu salário no referido mês, sabendo-se que são descontados 11% para o Imposto de Renda, 8% para o INSS e 5% para o sindicato, faça um programa que nos dê:\n",
    "a) salário bruto.\n",
    "b) quanto pagou ao INSS.\n",
    "c) quanto pagou ao sindicato.\n",
    "d) o salário líquido.\n",
    "e) calcule os descontos e o salário líquido, conforme a tabela abaixo:\n",
    "+ Salário Bruto : R$\n",
    "- IR (11%) : R$\n",
    "- INSS (8%) : R$\n",
    "- Sindicato ( 5%) : R$\n",
    "= Salário Liquido : R$"
   ]
  },
  {
   "cell_type": "code",
   "execution_count": 32,
   "id": "ab2dd8b8",
   "metadata": {},
   "outputs": [
    {
     "name": "stdout",
     "output_type": "stream",
     "text": [
      "Seu salário bruto é de R$5060.00\n",
      "O desconto do imposto de renda ficou em R$556.60\n",
      "O desconto do INSS ficou em R$404.80\n",
      "A contribuição sindical ficou em R$253.00\n",
      "Seu salário liquido ficou em R$3845.60\n"
     ]
    }
   ],
   "source": [
    "salario_hora = float(input('Quanto você recebe por hora? '))\n",
    "horas_trabalhadas = float(input('Quantas horas você trabalha por mês? '))\n",
    "\n",
    "salario_bruto = salario_hora * horas_trabalhadas\n",
    "imposto_renda = salario_bruto * .11\n",
    "inss = salario_bruto * .08\n",
    "sindicato = salario_bruto * .05\n",
    "salario_liquido = salario_bruto - imposto_renda - inss - sindicato\n",
    "\n",
    "print(f'Seu salário bruto é de R${salario_bruto:.2f}')\n",
    "print(f'O desconto do imposto de renda ficou em R${imposto_renda:.2f}')\n",
    "print(f'O desconto do INSS ficou em R${inss:.2f}')\n",
    "print(f'A contribuição sindical ficou em R${sindicato:.2f}')\n",
    "print(f'Seu salário liquido ficou em R${salario_liquido:.2f}')"
   ]
  },
  {
   "cell_type": "markdown",
   "id": "bb0eba75",
   "metadata": {},
   "source": [
    "Exercício 19 - Faça um programa para uma loja de tintas. O programa deverá pedir o tamanho em metros quadrados da área a ser pintada. Considere que a cobertura da tinta é de 1 litro para cada 3 metros quadrados e que a tinta é vendida em latas de 18 litros, que custam R$ 80,00. Informe ao usuário a quantidades de latas de tinta a serem compradas e o preço total."
   ]
  },
  {
   "cell_type": "code",
   "execution_count": 5,
   "id": "aed6b1c0",
   "metadata": {},
   "outputs": [
    {
     "name": "stdout",
     "output_type": "stream",
     "text": [
      "A quantidade de latas utilizada para pintar sua area de 547.57m² é: 11, e o valor total das latas é: R$880\n"
     ]
    }
   ],
   "source": [
    "# Importar o math no inicio do programa para poder utilizar o math.ceil() que arredonda qualquer número pra cima. math.floor() para baixo\n",
    "\n",
    "import math\n",
    "\n",
    "area = float(input('Quantos metros quadrados você tem que pintar? '))\n",
    "lata_litro = 18\n",
    "valor_lata = 80\n",
    "quantidade_lata = area / (lata_litro*3)\n",
    "\n",
    "\n",
    "\n",
    "print(f'A quantidade de latas utilizada para pintar sua area de {area}m² é: {math.ceil(quantidade_lata)}, e o valor total das latas é: R${math.ceil(quantidade_lata)* valor_lata}')"
   ]
  }
 ],
 "metadata": {
  "kernelspec": {
   "display_name": "Python 3 (ipykernel)",
   "language": "python",
   "name": "python3"
  },
  "language_info": {
   "codemirror_mode": {
    "name": "ipython",
    "version": 3
   },
   "file_extension": ".py",
   "mimetype": "text/x-python",
   "name": "python",
   "nbconvert_exporter": "python",
   "pygments_lexer": "ipython3",
   "version": "3.11.3"
  }
 },
 "nbformat": 4,
 "nbformat_minor": 5
}
